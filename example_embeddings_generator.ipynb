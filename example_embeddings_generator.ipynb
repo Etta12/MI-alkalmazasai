{
  "nbformat": 4,
  "nbformat_minor": 0,
  "metadata": {
    "colab": {
      "provenance": [],
      "gpuType": "T4"
    },
    "kernelspec": {
      "name": "python3",
      "display_name": "Python 3"
    },
    "language_info": {
      "name": "python"
    },
    "accelerator": "GPU"
  },
  "cells": [
    {
      "cell_type": "code",
      "execution_count": 14,
      "metadata": {
        "colab": {
          "base_uri": "https://localhost:8080/"
        },
        "id": "jb1nyRCjyfBZ",
        "outputId": "cf2ef6fc-dff7-4321-bd93-5e5b01cbcc72"
      },
      "outputs": [
        {
          "output_type": "stream",
          "name": "stdout",
          "text": [
            "Drive already mounted at /content/drive; to attempt to forcibly remount, call drive.mount(\"/content/drive\", force_remount=True).\n"
          ]
        }
      ],
      "source": [
        "from google.colab import drive\n",
        "drive.mount('/content/drive')"
      ]
    },
    {
      "cell_type": "code",
      "source": [
        "import os\n",
        "os.chdir('/content/drive/MyDrive/projekt_munka_viragok')"
      ],
      "metadata": {
        "id": "lJ1VxiUHympx"
      },
      "execution_count": 15,
      "outputs": []
    },
    {
      "cell_type": "code",
      "source": [
        "import importlib\n",
        "import classok\n",
        "importlib.reload(classok)"
      ],
      "metadata": {
        "colab": {
          "base_uri": "https://localhost:8080/"
        },
        "id": "F2xCSC3s2w09",
        "outputId": "f9b7c59a-fac0-46fe-88d1-cba16bd938ec"
      },
      "execution_count": 19,
      "outputs": [
        {
          "output_type": "execute_result",
          "data": {
            "text/plain": [
              "<module 'classok' from '/content/drive/.shortcut-targets-by-id/1hIcljRDlqCZfXacmi5_aSx6Y4P6sO9D7/projekt_munka_viragok/classok.py'>"
            ]
          },
          "metadata": {},
          "execution_count": 19
        }
      ]
    },
    {
      "cell_type": "code",
      "source": [
        "from classok import EmbeddingProcessor\n",
        "import zipfile\n",
        "import json"
      ],
      "metadata": {
        "id": "HebOnaBtyn01"
      },
      "execution_count": 20,
      "outputs": []
    },
    {
      "cell_type": "code",
      "source": [
        "# Define the extracted folder path\n",
        "dataset_path = \"/content/drive/MyDrive/projekt_munka_viragok/archive (2).zip\"\n",
        "extract_path = \"/content/\"\n",
        "\n",
        "if os.path.exists(dataset_path):\n",
        "    with zipfile.ZipFile(dataset_path, \"r\") as zip_ref:\n",
        "        zip_ref.extractall(extract_path)\n",
        "    print(\"Dataset extracted successfully.\")\n",
        "else:\n",
        "    print(\"Zip file not found.\")\n",
        "\n",
        "# Load label mappings\n",
        "with open(\"/content/cat_to_name.json\", \"r\") as f:\n",
        "    label_map = json.load(f)\n",
        "\n",
        "# Define base directory and splits\n",
        "base_dir = \"/content/dataset\"\n",
        "splits = [\"train\", \"valid\"]\n"
      ],
      "metadata": {
        "colab": {
          "base_uri": "https://localhost:8080/"
        },
        "id": "KyGn-bew1ddf",
        "outputId": "b1fc019d-66d7-418b-def6-86b47a1ba6ae"
      },
      "execution_count": 21,
      "outputs": [
        {
          "output_type": "stream",
          "name": "stdout",
          "text": [
            "Dataset extracted successfully.\n"
          ]
        }
      ]
    },
    {
      "cell_type": "code",
      "source": [
        "processor = EmbeddingProcessor(\n",
        "    model_name=\"google/siglip-base-patch16-224\",\n",
        "    cat_to_name_path=\"/content/cat_to_name.json\",\n",
        "    input_json=\"/content/drive/MyDrive/projekt_munka_viragok/captions_1_to_51_with_label.json\",\n",
        "    output_json=\"/content/drive/MyDrive/projekt_munka_viragok/flower_embeddings_with_label.json\",\n",
        "    dataset_root=\"/content/dataset/train\"\n",
        ")\n",
        "\n",
        "cleaned_json_path = processor.preprocess_json()\n",
        "processor.generate_embeddings(cleaned_json_path, apply_augmentation=False)\n"
      ],
      "metadata": {
        "colab": {
          "base_uri": "https://localhost:8080/"
        },
        "id": "cytNzJnkyx7T",
        "outputId": "eb28b651-6817-4560-bd40-9f9bab7c31bd"
      },
      "execution_count": 22,
      "outputs": [
        {
          "output_type": "stream",
          "name": "stdout",
          "text": [
            "Preprocessed and saved to cleaned_file_updated.json\n"
          ]
        },
        {
          "output_type": "stream",
          "name": "stderr",
          "text": [
            "100%|██████████| 2801/2801 [01:34<00:00, 29.77it/s]\n"
          ]
        },
        {
          "output_type": "stream",
          "name": "stdout",
          "text": [
            "Embeddings saved to /content/drive/MyDrive/projekt_munka_viragok/flower_embeddings_with_label.json\n"
          ]
        }
      ]
    },
    {
      "cell_type": "code",
      "source": [
        "processor = EmbeddingProcessor(\n",
        "    model_name=\"google/siglip-base-patch16-224\",\n",
        "    cat_to_name_path=\"/content/cat_to_name.json\",\n",
        "    input_json=\"/content/drive/MyDrive/projekt_munka_viragok/captions_1_to_51_without_label.json\",\n",
        "    output_json=\"/content/drive/MyDrive/projekt_munka_viragok/flower_embeddings_without_label.json\",\n",
        "    dataset_root=\"/content/dataset/train\"\n",
        ")\n",
        "\n",
        "cleaned_json_path = processor.preprocess_json()\n",
        "processor.generate_embeddings(cleaned_json_path, apply_augmentation=False)\n"
      ],
      "metadata": {
        "id": "IB8fwa5ry-zq",
        "colab": {
          "base_uri": "https://localhost:8080/"
        },
        "outputId": "31eb3b69-c2fb-4fec-e445-2982d45af6d1"
      },
      "execution_count": 23,
      "outputs": [
        {
          "output_type": "stream",
          "name": "stdout",
          "text": [
            "Preprocessed and saved to cleaned_file_updated.json\n"
          ]
        },
        {
          "output_type": "stream",
          "name": "stderr",
          "text": [
            "100%|██████████| 2742/2742 [01:31<00:00, 29.85it/s]\n"
          ]
        },
        {
          "output_type": "stream",
          "name": "stdout",
          "text": [
            "Embeddings saved to /content/drive/MyDrive/projekt_munka_viragok/flower_embeddings_without_label.json\n"
          ]
        }
      ]
    },
    {
      "cell_type": "code",
      "source": [
        "processor = EmbeddingProcessor(\n",
        "    model_name=\"google/siglip-base-patch16-224\",\n",
        "    cat_to_name_path=\"/content/cat_to_name.json\",\n",
        "    input_json=\"/content/drive/MyDrive/projekt_munka_viragok/captions_1_to_51_flower_only.json\",\n",
        "    output_json=\"/content/drive/MyDrive/projekt_munka_viragok/flower_embeddings_with_label_without_name.json\",\n",
        "    dataset_root=\"/content/dataset/train\"\n",
        ")\n",
        "\n",
        "cleaned_json_path = processor.preprocess_json()\n",
        "processor.generate_embeddings(cleaned_json_path, apply_augmentation=False)\n"
      ],
      "metadata": {
        "id": "tRU9UmqjzEd5",
        "colab": {
          "base_uri": "https://localhost:8080/"
        },
        "outputId": "cd8d4aa8-9ec4-44f6-f332-477a3aa33854"
      },
      "execution_count": 24,
      "outputs": [
        {
          "output_type": "stream",
          "name": "stdout",
          "text": [
            "Preprocessed and saved to cleaned_file_updated.json\n"
          ]
        },
        {
          "output_type": "stream",
          "name": "stderr",
          "text": [
            "100%|██████████| 2801/2801 [01:32<00:00, 30.22it/s]\n"
          ]
        },
        {
          "output_type": "stream",
          "name": "stdout",
          "text": [
            "Embeddings saved to /content/drive/MyDrive/projekt_munka_viragok/flower_embeddings_with_label_without_name.json\n"
          ]
        }
      ]
    }
  ]
}