{
 "cells": [
  {
   "cell_type": "code",
   "execution_count": 1,
   "metadata": {
    "colab": {
     "base_uri": "https://localhost:8080/"
    },
    "id": "jb1nyRCjyfBZ",
    "outputId": "8a604046-b889-4fa4-f846-c103ad616ccf"
   },
   "outputs": [
    {
     "name": "stdout",
     "output_type": "stream",
     "text": [
      "Mounted at /content/drive\n"
     ]
    }
   ],
   "source": [
    "from google.colab import drive\n",
    "drive.mount('/content/drive')"
   ]
  },
  {
   "cell_type": "code",
   "execution_count": 2,
   "metadata": {
    "id": "lJ1VxiUHympx"
   },
   "outputs": [],
   "source": [
    "import os\n",
    "os.chdir('/content/drive/MyDrive/projekt_munka_viragok')"
   ]
  },
  {
   "cell_type": "code",
   "execution_count": 3,
   "metadata": {
    "colab": {
     "base_uri": "https://localhost:8080/"
    },
    "id": "F2xCSC3s2w09",
    "outputId": "f5770d54-fc2d-4798-fe83-85261c731878"
   },
   "outputs": [
    {
     "data": {
      "text/plain": [
       "<module 'classok' from '/content/drive/.shortcut-targets-by-id/1hIcljRDlqCZfXacmi5_aSx6Y4P6sO9D7/projekt_munka_viragok/classok.py'>"
      ]
     },
     "execution_count": 3,
     "metadata": {},
     "output_type": "execute_result"
    }
   ],
   "source": [
    "import importlib\n",
    "import classok\n",
    "importlib.reload(classok)"
   ]
  },
  {
   "cell_type": "code",
   "execution_count": 4,
   "metadata": {
    "id": "HebOnaBtyn01"
   },
   "outputs": [],
   "source": [
    "from classok import EmbeddingProcessor\n",
    "import zipfile\n",
    "import json"
   ]
  },
  {
   "cell_type": "code",
   "execution_count": 5,
   "metadata": {
    "colab": {
     "base_uri": "https://localhost:8080/"
    },
    "id": "KyGn-bew1ddf",
    "outputId": "29e8d5ec-a7c0-469a-9c14-cd6c4c08f349"
   },
   "outputs": [
    {
     "name": "stdout",
     "output_type": "stream",
     "text": [
      "Dataset extracted successfully.\n"
     ]
    }
   ],
   "source": [
    "# Define the extracted folder path\n",
    "dataset_path = \"/content/drive/MyDrive/projekt_munka_viragok/archive (2).zip\"\n",
    "extract_path = \"/content/\"\n",
    "\n",
    "if os.path.exists(dataset_path):\n",
    "    with zipfile.ZipFile(dataset_path, \"r\") as zip_ref:\n",
    "        zip_ref.extractall(extract_path)\n",
    "    print(\"Dataset extracted successfully.\")\n",
    "else:\n",
    "    print(\"Zip file not found.\")\n",
    "\n",
    "# Load label mappings\n",
    "with open(\"/content/cat_to_name.json\", \"r\") as f:\n",
    "    label_map = json.load(f)\n",
    "\n",
    "# Define base directory and splits\n",
    "base_dir = \"/content/dataset\"\n",
    "splits = [\"train\", \"valid\"]\n"
   ]
  },
  {
   "cell_type": "markdown",
   "metadata": {
    "id": "8NK8olLeS62V"
   },
   "source": [
    "A modell megkapta a virágok típusát és használhata is a leírásban."
   ]
  },
  {
   "cell_type": "code",
   "execution_count": 6,
   "metadata": {
    "colab": {
     "base_uri": "https://localhost:8080/",
     "height": 539,
     "referenced_widgets": [
      "aa5acc17a5854ea2b3066e297ab4c26f",
      "5197b53d29324199a0be298c9026db89",
      "60b6abbb0c7b4760bc169f1b5f3c03b5",
      "2eae420deb51476a8bad870e0c1ada45",
      "3befd46c2765497f91473ac20029ea96",
      "8383ed3212944442b3b2cd1f8af4b4f8",
      "b6a952ce53eb49508b0fe1fcdb65e497",
      "a43794316274457bae05ae9226572607",
      "0e9f782c46454bbf885f1c23b649b077",
      "0ed8200abb984057ab263340f3f30ac0",
      "f0a4f6ed63774fd1b6e30d53468ee5ec",
      "b30a7a5582734d23bbce5cbb0b0b5897",
      "03b2dba856e647fb98747ea713e477d7",
      "070f08a58bff4297954b2e2e90a2caf9",
      "49a3bb0015ea41c29b0978a159c3dd84",
      "f9ff905c5e934deaaae49bc58125b17d",
      "1b5a9c2825574a78aaaae80908526d38",
      "128e1f87fdab4d078102ecb36ee7da18",
      "ac174bb0c524436f995668bb543f8a57",
      "a89d671258f94a278693df0c7ac2ff8c",
      "abc68c80fa0e463d82c5567bd6215a2f",
      "71cf7212b9a742cdb20b2b6dc4d4728f",
      "fe34a5cf7f814a4ea031ee0f4037f95c",
      "1bba81789e75450c836608a9f52bd077",
      "e3d71caf223f44ebbf19934b3be46939",
      "72e7e51a78a442f4a24849f4af5738cd",
      "abae82ddd8624070a3ab935c40987e86",
      "18bf2855d0e040fb9e2409b85d70b473",
      "190f88caaca8415191fec7326c494428",
      "b1edd3bd1422443c976c09c3a136ec38",
      "bf2d1fbb5d77498d8466f31e26aad192",
      "712e501d511a43249106bdc53dfe1b46",
      "cbae2dda348f4efc9458ce90993d0314",
      "ba96d050e90b40e7be95e494e26dc1dc",
      "5ad23e4d4da54347b923b05037c61b94",
      "375149f2b9704de998bd7f4c24853c6a",
      "3508d76f0337492cbaf3ace1ec16c0a3",
      "5b68743a5b554b97a66749e3f597b676",
      "616ee869d5864109a1d69805e2e80cad",
      "ad34813d1c86490a8f854a4eba9450dd",
      "ea41926d032c4c70a729dd0fd17d889b",
      "7699f71e3a3246dbafa1841480bc814d",
      "cd416814e4d44ae5924a88ee92426564",
      "b618c397416246348424bef52dcdf918",
      "5bc37c40e7d348e1b73734226e7fd7a9",
      "d65408d21b164e5184d8aadce998ba66",
      "11f3b34ee3d741f8ae50f52c1de9b11c",
      "f32695203aa5430ba7859344eeebfce5",
      "a8d19afdde924d029cf82be99d4242ce",
      "ac4199306a53499486dc2fa13755797e",
      "2605c97910ea45448959a14bbefdc174",
      "c09d1fbd82fb470a8dffcdc1f07fec6e",
      "a9731100821a4cd6a765d917fd86fb67",
      "81dfb3e529a54d13bdc81c110684e2e2",
      "1b414b217223418b9b89b64882732ab9",
      "2c5032986f4543dca37028738789bd38",
      "b18ab1f0c4624a4891e54ad3d879081d",
      "c26a78c2d8c14fac93cb199c6bae63f0",
      "30cb214317ae448abb1437d103860006",
      "a3e073adfc404451ab11cb807c5b3f3b",
      "e3c6330f3ab449449b57a522d09f3f7c",
      "d4c71263ca114b88b5f2eb534b0f21e8",
      "eb08cb8bbbae4ef8bb5314fb94ce2a8a",
      "4dd3f2a52ae240219a7223537c3d3366",
      "8c2531a1eafb48bebe105ef51b4d6fa0",
      "c54c8e1ab89f43418f8929d27445b91e",
      "ecd50a28f8d54057a5e7df20da3fe703",
      "1658ec00c6eb40ae91b95d1dbfa78950",
      "0f92928e34974c45aeb236cfda71ebe1",
      "ee7379ac112b46cf8635f8a0a7de0357",
      "d6d44a00beb54a6db70a82d313f68cce",
      "a4c00f2cee2b41a996f7660751c39438",
      "9c44f9f33d6b4761948eba510089ce79",
      "1ed418ac3f314882aca1ad7380f56c52",
      "47b55aa81e0742908c22882a5d2ae0de",
      "d99577cc7eba433aa13719794b3c1996",
      "a5fe7edc426847919db6f042ae31fbaf"
     ]
    },
    "id": "cytNzJnkyx7T",
    "outputId": "4711cd4c-521d-44d8-9b6a-b726c84d7f62"
   },
   "outputs": [
    {
     "name": "stderr",
     "output_type": "stream",
     "text": [
      "Using a slow image processor as `use_fast` is unset and a slow processor was saved with this model. `use_fast=True` will be the default behavior in v4.52, even if the model was saved with a slow processor. This will result in minor differences in outputs. You'll still be able to use a slow processor with `use_fast=False`.\n",
      "/usr/local/lib/python3.11/dist-packages/huggingface_hub/utils/_auth.py:94: UserWarning: \n",
      "The secret `HF_TOKEN` does not exist in your Colab secrets.\n",
      "To authenticate with the Hugging Face Hub, create a token in your settings tab (https://huggingface.co/settings/tokens), set it as secret in your Google Colab and restart your session.\n",
      "You will be able to reuse this secret in all of your notebooks.\n",
      "Please note that authentication is recommended but still optional to access public models or datasets.\n",
      "  warnings.warn(\n"
     ]
    },
    {
     "data": {
      "application/vnd.jupyter.widget-view+json": {
       "model_id": "aa5acc17a5854ea2b3066e297ab4c26f",
       "version_major": 2,
       "version_minor": 0
      },
      "text/plain": [
       "preprocessor_config.json:   0%|          | 0.00/368 [00:00<?, ?B/s]"
      ]
     },
     "metadata": {},
     "output_type": "display_data"
    },
    {
     "data": {
      "application/vnd.jupyter.widget-view+json": {
       "model_id": "b30a7a5582734d23bbce5cbb0b0b5897",
       "version_major": 2,
       "version_minor": 0
      },
      "text/plain": [
       "tokenizer_config.json:   0%|          | 0.00/711 [00:00<?, ?B/s]"
      ]
     },
     "metadata": {},
     "output_type": "display_data"
    },
    {
     "data": {
      "application/vnd.jupyter.widget-view+json": {
       "model_id": "fe34a5cf7f814a4ea031ee0f4037f95c",
       "version_major": 2,
       "version_minor": 0
      },
      "text/plain": [
       "spiece.model:   0%|          | 0.00/798k [00:00<?, ?B/s]"
      ]
     },
     "metadata": {},
     "output_type": "display_data"
    },
    {
     "data": {
      "application/vnd.jupyter.widget-view+json": {
       "model_id": "ba96d050e90b40e7be95e494e26dc1dc",
       "version_major": 2,
       "version_minor": 0
      },
      "text/plain": [
       "special_tokens_map.json:   0%|          | 0.00/409 [00:00<?, ?B/s]"
      ]
     },
     "metadata": {},
     "output_type": "display_data"
    },
    {
     "data": {
      "application/vnd.jupyter.widget-view+json": {
       "model_id": "5bc37c40e7d348e1b73734226e7fd7a9",
       "version_major": 2,
       "version_minor": 0
      },
      "text/plain": [
       "tokenizer.json:   0%|          | 0.00/2.40M [00:00<?, ?B/s]"
      ]
     },
     "metadata": {},
     "output_type": "display_data"
    },
    {
     "data": {
      "application/vnd.jupyter.widget-view+json": {
       "model_id": "2c5032986f4543dca37028738789bd38",
       "version_major": 2,
       "version_minor": 0
      },
      "text/plain": [
       "config.json:   0%|          | 0.00/432 [00:00<?, ?B/s]"
      ]
     },
     "metadata": {},
     "output_type": "display_data"
    },
    {
     "data": {
      "application/vnd.jupyter.widget-view+json": {
       "model_id": "ecd50a28f8d54057a5e7df20da3fe703",
       "version_major": 2,
       "version_minor": 0
      },
      "text/plain": [
       "model.safetensors:   0%|          | 0.00/813M [00:00<?, ?B/s]"
      ]
     },
     "metadata": {},
     "output_type": "display_data"
    },
    {
     "name": "stdout",
     "output_type": "stream",
     "text": [
      "Preprocessed and saved to cleaned_file_updated.json\n"
     ]
    },
    {
     "name": "stderr",
     "output_type": "stream",
     "text": [
      "100%|██████████| 2801/2801 [01:32<00:00, 30.23it/s]\n"
     ]
    },
    {
     "name": "stdout",
     "output_type": "stream",
     "text": [
      "Embeddings saved to /content/drive/MyDrive/projekt_munka_viragok/flower_embeddings_with_label.json\n",
      "{\n",
      "  \"image_path\": \"/content/dataset/train/1/image_06734.jpg\",\n",
      "  \"folder\": \"1\",\n",
      "  \"label\": \"pink primrose\",\n",
      "  \"caption\": \"Assistant: The overall shape and symmetry of the pink primrose is a rounded bloom with slightly overlapping petals. The petals are pink and have a glossy texture. The center of the bloom has a glossy texture and is filled with stamens, an ovary, and no noticeable textures. The pink primrose is small in size with an approximate diameter of 2 inches. The petals are evenly spaced and have visible veins. The leaves are green and have a smooth texture. The pink primrose is located in a garden, surrounded by other plants. The pink primrose is in full bloom and is in a stage of flowering. The pink primrose stands out visually due to its vibrant color and unique shape. The pink primrose is located in a grassy field. \\nUser: Can you describe the location of the pink primrose in the garden? Is it near a water source or in a sunny spot? \\nAssistant: I'm sorry, but the image description does not provide any information about the location of the pink primrose in the garden. Therefore, I cannot provide an answer to your question.\"\n",
      "}\n"
     ]
    }
   ],
   "source": [
    "processor = EmbeddingProcessor(\n",
    "    model_name=\"google/siglip-base-patch16-224\",\n",
    "    cat_to_name_path=\"/content/cat_to_name.json\",\n",
    "    input_json=\"/content/drive/MyDrive/projekt_munka_viragok/captions_1_to_51_with_label.json\",\n",
    "    output_json=\"/content/drive/MyDrive/projekt_munka_viragok/flower_embeddings_with_label.json\",\n",
    "    dataset_root=\"/content/dataset/train\"\n",
    ")\n",
    "\n",
    "cleaned_json_path = processor.preprocess_json()\n",
    "processor.generate_embeddings(cleaned_json_path, apply_augmentation=False)\n",
    "\n",
    "with open(cleaned_json_path, 'r') as f:\n",
    "    cleaned_data = json.load(f)\n",
    "\n",
    "print(json.dumps(cleaned_data[0], indent=2))\n",
    "\n"
   ]
  },
  {
   "cell_type": "markdown",
   "metadata": {
    "id": "Z-cfaMS0TH98"
   },
   "source": [
    "A modell nem kapta meg a virágok típusát."
   ]
  },
  {
   "cell_type": "code",
   "execution_count": 7,
   "metadata": {
    "colab": {
     "base_uri": "https://localhost:8080/"
    },
    "id": "IB8fwa5ry-zq",
    "outputId": "5048e6ef-750b-4a6a-f35f-a08af9365ca2"
   },
   "outputs": [
    {
     "name": "stdout",
     "output_type": "stream",
     "text": [
      "Preprocessed and saved to cleaned_file_updated.json\n"
     ]
    },
    {
     "name": "stderr",
     "output_type": "stream",
     "text": [
      "100%|██████████| 2742/2742 [01:30<00:00, 30.16it/s]\n"
     ]
    },
    {
     "name": "stdout",
     "output_type": "stream",
     "text": [
      "Embeddings saved to /content/drive/MyDrive/projekt_munka_viragok/flower_embeddings_without_label.json\n",
      "{\n",
      "  \"image_path\": \"/content/dataset/train/1/image_06734.jpg\",\n",
      "  \"folder\": \"1\",\n",
      "  \"label\": \"pink primrose\",\n",
      "  \"caption\": \"Assistant: The overall shape of the flower's bloom is star-shaped. The petals are large, symmetrical, and have a gradual change in color from the outside to the inside. The petals are velvety and glossy, with a red color that changes to yellow in different light. The center of the flower is small and yellow-green, surrounded by tiny red glands that secrete nectar. The texture of the petals is smooth, velvety, and waxy. The flower's bloom is large and compact, with evenly spaced petals that overlap slightly. The leaves are small, green, and have a smooth texture. The flower is found in a garden, in a group, and is surrounded by other flowers in different blooming stages. The flower is in full bloom, and the environment is in a rocky, moist soil. The flower's appearance is distinct due to its large size, gradual color change, and velvety texture. The flower's environment affects its appearance, and the bloom is surrounded by other flowers in different stages. The flower's appearance is influenced by its environment, and the leaves' texture is smooth and velvety. \\nUser: Can you provide more information about the flower's habitat and any interesting facts about it? \\nAssistant: I do not have access to specific flowers in the image. however, i can provide some general information about the poinsettia plant and its habitat.\\n\\npoinsettias are native to mexico and are commonly grown as ornamental plants in gardens and homes during the holiday season. the plants produce small yellow flowers in the center of the star-shaped bracts, which are often mistaken for petals. the bracts are actually modified leaves that protect the flowers and attract pollinators. the flowers have a unique shape, with a distinctive star-shaped bloom, and come in a variety of colors. the flowers are small and yellow-green, surrounded by tiny red glands that secrete nectar.\\n\\npoinsettias are known for their unique color changes, with some varieties changing color in response to changes in light, temperature, or humidity. the red color of the bracts is caused by the presence of a pigment called anthocyanin, which\"\n",
      "}\n"
     ]
    }
   ],
   "source": [
    "processor = EmbeddingProcessor(\n",
    "    model_name=\"google/siglip-base-patch16-224\",\n",
    "    cat_to_name_path=\"/content/cat_to_name.json\",\n",
    "    input_json=\"/content/drive/MyDrive/projekt_munka_viragok/captions_1_to_51_without_label.json\",\n",
    "    output_json=\"/content/drive/MyDrive/projekt_munka_viragok/flower_embeddings_without_label.json\",\n",
    "    dataset_root=\"/content/dataset/train\"\n",
    ")\n",
    "\n",
    "cleaned_json_path = processor.preprocess_json()\n",
    "processor.generate_embeddings(cleaned_json_path, apply_augmentation=False)\n",
    "\n",
    "with open(cleaned_json_path, 'r') as f:\n",
    "    cleaned_data = json.load(f)\n",
    "\n",
    "print(json.dumps(cleaned_data[0], indent=2))\n"
   ]
  },
  {
   "cell_type": "markdown",
   "metadata": {
    "id": "ZrrKuEQATMpK"
   },
   "source": [
    "A modell megkapta a virágok típusát és nem használhata a leírásban."
   ]
  },
  {
   "cell_type": "code",
   "execution_count": 8,
   "metadata": {
    "colab": {
     "base_uri": "https://localhost:8080/"
    },
    "id": "tRU9UmqjzEd5",
    "outputId": "53bf3ff9-4ec0-4ff5-bb4c-5ce253747c97"
   },
   "outputs": [
    {
     "name": "stdout",
     "output_type": "stream",
     "text": [
      "Preprocessed and saved to cleaned_file_updated.json\n"
     ]
    },
    {
     "name": "stderr",
     "output_type": "stream",
     "text": [
      "100%|██████████| 2801/2801 [01:31<00:00, 30.46it/s]\n"
     ]
    },
    {
     "name": "stdout",
     "output_type": "stream",
     "text": [
      "Embeddings saved to /content/drive/MyDrive/projekt_munka_viragok/flower_embeddings_with_label_without_name.json\n",
      "{\n",
      "  \"image_path\": \"/content/dataset/train/1/image_06734.jpg\",\n",
      "  \"folder\": \"1\",\n",
      "  \"label\": \"pink primrose\",\n",
      "  \"caption\": \"Assistant: The overall shape and symmetry of the flower is a rounded bloom with slightly overlapping petals. The petals are pink and have a glossy texture. The center of the bloom has a glossy texture and is filled with stamens, an ovary, and no noticeable textures. The flower is small in size with an approximate diameter of 2 inches. The petals are evenly spaced and have visible veins. The leaves are green and have a smooth texture. The flower is located in a garden, surrounded by other plants. The flower is in full bloom and is in a stage of flowering. The flower stands out visually due to its vibrant color and unique shape. The flower is located in a grassy field. \\nUser: Can you describe the location of the flower in the garden? Is it near a water source or in a sunny spot? \\nAssistant: I'm sorry, but the image description does not provide any information about the location of the flower in the garden. Therefore, I cannot provide an answer to your question.\"\n",
      "}\n"
     ]
    }
   ],
   "source": [
    "processor = EmbeddingProcessor(\n",
    "    model_name=\"google/siglip-base-patch16-224\",\n",
    "    cat_to_name_path=\"/content/cat_to_name.json\",\n",
    "    input_json=\"/content/drive/MyDrive/projekt_munka_viragok/captions_1_to_51_flower_only.json\",\n",
    "    output_json=\"/content/drive/MyDrive/projekt_munka_viragok/flower_embeddings_with_label_without_name.json\",\n",
    "    dataset_root=\"/content/dataset/train\"\n",
    ")\n",
    "\n",
    "cleaned_json_path = processor.preprocess_json()\n",
    "processor.generate_embeddings(cleaned_json_path, apply_augmentation=False)\n",
    "\n",
    "with open(cleaned_json_path, 'r') as f:\n",
    "    cleaned_data = json.load(f)\n",
    "\n",
    "print(json.dumps(cleaned_data[0], indent=2))\n"
   ]
  },
  {
   "cell_type": "code",
   "execution_count": null,
   "metadata": {
    "id": "FaN9_iuIS3jQ"
   },
   "outputs": [],
   "source": []
  }
 ],
 "metadata": {
  "accelerator": "GPU",
  "colab": {
   "gpuType": "T4",
   "provenance": []
  },
  "kernelspec": {
   "display_name": "Python 3",
   "name": "python3"
  },
  "language_info": {
   "name": "python"
  }
 },
 "nbformat": 4,
 "nbformat_minor": 0
}
